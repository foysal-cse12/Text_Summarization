{
 "cells": [
  {
   "cell_type": "code",
   "execution_count": 1,
   "id": "secure-victory",
   "metadata": {},
   "outputs": [],
   "source": [
    "\n",
    "\n",
    "import numpy as np\n",
    "from nltk.corpus import stopwords\n",
    "from nltk.stem import WordNetLemmatizer\n",
    "from nltk.tokenize import word_tokenize\n",
    "import matplotlib.pyplot as plt\n",
    "import re\n",
    "import pandas as pd\n",
    "import os\n",
    "\n",
    "\n",
    "from clean_text import *\n",
    "from clean_summary import *"
   ]
  },
  {
   "cell_type": "code",
   "execution_count": 2,
   "id": "outstanding-investing",
   "metadata": {},
   "outputs": [
    {
     "name": "stdout",
     "output_type": "stream",
     "text": [
      "TensorFlow Version: 2.3.0\n"
     ]
    }
   ],
   "source": [
    "import tensorflow as tf\n",
    "print('TensorFlow Version: {}'.format(tf.__version__))"
   ]
  },
  {
   "cell_type": "code",
   "execution_count": 3,
   "id": "greatest-development",
   "metadata": {},
   "outputs": [
    {
     "name": "stdout",
     "output_type": "stream",
     "text": [
      "(1914, 3)\n"
     ]
    },
    {
     "data": {
      "text/html": [
       "<div>\n",
       "<style scoped>\n",
       "    .dataframe tbody tr th:only-of-type {\n",
       "        vertical-align: middle;\n",
       "    }\n",
       "\n",
       "    .dataframe tbody tr th {\n",
       "        vertical-align: top;\n",
       "    }\n",
       "\n",
       "    .dataframe thead th {\n",
       "        text-align: right;\n",
       "    }\n",
       "</style>\n",
       "<table border=\"1\" class=\"dataframe\">\n",
       "  <thead>\n",
       "    <tr style=\"text-align: right;\">\n",
       "      <th></th>\n",
       "      <th>Publication_number</th>\n",
       "      <th>Description</th>\n",
       "      <th>Summary</th>\n",
       "    </tr>\n",
       "  </thead>\n",
       "  <tbody>\n",
       "    <tr>\n",
       "      <th>0</th>\n",
       "      <td>US-7726913-B1</td>\n",
       "      <td>the invention comprises a pair of tubes with a...</td>\n",
       "      <td>the present invention is an apparatus and a me...</td>\n",
       "    </tr>\n",
       "    <tr>\n",
       "      <th>1</th>\n",
       "      <td>US-2005217934-A1</td>\n",
       "      <td>the scaffolding system according to a particul...</td>\n",
       "      <td>a scaffolding system and method of moving a sc...</td>\n",
       "    </tr>\n",
       "    <tr>\n",
       "      <th>2</th>\n",
       "      <td>US-2006037749-A1</td>\n",
       "      <td>now referring to fig1 , there is shown a subte...</td>\n",
       "      <td>a well tool and method for heating and deposit...</td>\n",
       "    </tr>\n",
       "    <tr>\n",
       "      <th>3</th>\n",
       "      <td>US-2014259344-A1</td>\n",
       "      <td>embodiments of the disclosure relate to a urin...</td>\n",
       "      <td>the disclosure provides a urinal screen compri...</td>\n",
       "    </tr>\n",
       "    <tr>\n",
       "      <th>4</th>\n",
       "      <td>US-4776621-A</td>\n",
       "      <td>the simplest embodiment shown in fig1 has only...</td>\n",
       "      <td>a collector for dog droppings includes a stick...</td>\n",
       "    </tr>\n",
       "  </tbody>\n",
       "</table>\n",
       "</div>"
      ],
      "text/plain": [
       "  Publication_number                                        Description  \\\n",
       "0      US-7726913-B1  the invention comprises a pair of tubes with a...   \n",
       "1   US-2005217934-A1  the scaffolding system according to a particul...   \n",
       "2   US-2006037749-A1  now referring to fig1 , there is shown a subte...   \n",
       "3   US-2014259344-A1  embodiments of the disclosure relate to a urin...   \n",
       "4       US-4776621-A  the simplest embodiment shown in fig1 has only...   \n",
       "\n",
       "                                             Summary  \n",
       "0  the present invention is an apparatus and a me...  \n",
       "1  a scaffolding system and method of moving a sc...  \n",
       "2  a well tool and method for heating and deposit...  \n",
       "3  the disclosure provides a urinal screen compri...  \n",
       "4  a collector for dog droppings includes a stick...  "
      ]
     },
     "execution_count": 3,
     "metadata": {},
     "output_type": "execute_result"
    }
   ],
   "source": [
    "\n",
    "data = pd.read_csv(\"G:\\\\master thesis\\\\bigPatent_dataset_csv\\\\val\\\\val_E.csv\")\n",
    "print(data.shape)\n",
    "data.head()"
   ]
  },
  {
   "cell_type": "markdown",
   "id": "musical-spine",
   "metadata": {},
   "source": [
    "## data cleaning and preprocessing "
   ]
  },
  {
   "cell_type": "code",
   "execution_count": 4,
   "id": "completed-kentucky",
   "metadata": {},
   "outputs": [
    {
     "name": "stdout",
     "output_type": "stream",
     "text": [
      "(1906, 3)\n"
     ]
    }
   ],
   "source": [
    "## dropping duplicates\n",
    "data.drop_duplicates(subset=['Description'],inplace=True)  #dropping duplicates\n",
    "data.dropna(axis=0,inplace=True)\n",
    "print(data.shape)"
   ]
  },
  {
   "cell_type": "code",
   "execution_count": 5,
   "id": "detected-interview",
   "metadata": {},
   "outputs": [
    {
     "name": "stdout",
     "output_type": "stream",
     "text": [
      "1906\n",
      "1906\n"
     ]
    }
   ],
   "source": [
    "print(len(data['Description']))\n",
    "print(len(data['Summary']))"
   ]
  },
  {
   "cell_type": "code",
   "execution_count": 6,
   "id": "continuing-prophet",
   "metadata": {},
   "outputs": [],
   "source": [
    "cleaned_summary = []\n",
    "cleaned_text = [] "
   ]
  },
  {
   "cell_type": "code",
   "execution_count": 7,
   "id": "greenhouse-heritage",
   "metadata": {},
   "outputs": [
    {
     "name": "stdout",
     "output_type": "stream",
     "text": [
      "Text preprocessing done.\n"
     ]
    }
   ],
   "source": [
    "\n",
    "for text in data['Description']:\n",
    "    cleaned_text.append(clean_text(text, remove_stopwords=True))\n",
    "print(\"Text preprocessing done.\")"
   ]
  },
  {
   "cell_type": "code",
   "execution_count": 8,
   "id": "sharing-aberdeen",
   "metadata": {},
   "outputs": [
    {
     "name": "stdout",
     "output_type": "stream",
     "text": [
      "summary preprocessing done.\n"
     ]
    }
   ],
   "source": [
    "\n",
    "\n",
    "for summary in data['Summary']:\n",
    "    cleaned_summary.append(clean_summary(summary,remove_stopwords=False))\n",
    "print(\"summary preprocessing done.\")"
   ]
  },
  {
   "cell_type": "code",
   "execution_count": 9,
   "id": "expected-inventory",
   "metadata": {},
   "outputs": [],
   "source": [
    "\n",
    "data['cleaned_text']=cleaned_text\n",
    "data['cleaned_summary']=cleaned_summary\n",
    "data['cleaned_summary'].replace('', np.nan, inplace=True)\n",
    "data.dropna(axis=0,inplace=True)"
   ]
  },
  {
   "cell_type": "code",
   "execution_count": 10,
   "id": "streaming-cemetery",
   "metadata": {},
   "outputs": [
    {
     "data": {
      "text/plain": [
       "(1906, 5)"
      ]
     },
     "execution_count": 10,
     "metadata": {},
     "output_type": "execute_result"
    }
   ],
   "source": [
    "data.shape"
   ]
  },
  {
   "cell_type": "code",
   "execution_count": 11,
   "id": "deluxe-insured",
   "metadata": {},
   "outputs": [
    {
     "data": {
      "text/html": [
       "<div>\n",
       "<style scoped>\n",
       "    .dataframe tbody tr th:only-of-type {\n",
       "        vertical-align: middle;\n",
       "    }\n",
       "\n",
       "    .dataframe tbody tr th {\n",
       "        vertical-align: top;\n",
       "    }\n",
       "\n",
       "    .dataframe thead th {\n",
       "        text-align: right;\n",
       "    }\n",
       "</style>\n",
       "<table border=\"1\" class=\"dataframe\">\n",
       "  <thead>\n",
       "    <tr style=\"text-align: right;\">\n",
       "      <th></th>\n",
       "      <th>Publication_number</th>\n",
       "      <th>Description</th>\n",
       "      <th>Summary</th>\n",
       "      <th>cleaned_text</th>\n",
       "      <th>cleaned_summary</th>\n",
       "    </tr>\n",
       "  </thead>\n",
       "  <tbody>\n",
       "    <tr>\n",
       "      <th>0</th>\n",
       "      <td>US-7726913-B1</td>\n",
       "      <td>the invention comprises a pair of tubes with a...</td>\n",
       "      <td>the present invention is an apparatus and a me...</td>\n",
       "      <td>invention comprises pair tubes first tube top ...</td>\n",
       "      <td>the present invention is an apparatus and meth...</td>\n",
       "    </tr>\n",
       "    <tr>\n",
       "      <th>1</th>\n",
       "      <td>US-2005217934-A1</td>\n",
       "      <td>the scaffolding system according to a particul...</td>\n",
       "      <td>a scaffolding system and method of moving a sc...</td>\n",
       "      <td>scaffolding system according particular embodi...</td>\n",
       "      <td>scaffolding system and method of moving scaffo...</td>\n",
       "    </tr>\n",
       "    <tr>\n",
       "      <th>2</th>\n",
       "      <td>US-2006037749-A1</td>\n",
       "      <td>now referring to fig1 , there is shown a subte...</td>\n",
       "      <td>a well tool and method for heating and deposit...</td>\n",
       "      <td>referring fig num shown subterranean well well...</td>\n",
       "      <td>well tool and method for heating and depositin...</td>\n",
       "    </tr>\n",
       "    <tr>\n",
       "      <th>3</th>\n",
       "      <td>US-2014259344-A1</td>\n",
       "      <td>embodiments of the disclosure relate to a urin...</td>\n",
       "      <td>the disclosure provides a urinal screen compri...</td>\n",
       "      <td>embodiments disclosure relate urinal screen sy...</td>\n",
       "      <td>the disclosure provides urinal screen comprisi...</td>\n",
       "    </tr>\n",
       "    <tr>\n",
       "      <th>4</th>\n",
       "      <td>US-4776621-A</td>\n",
       "      <td>the simplest embodiment shown in fig1 has only...</td>\n",
       "      <td>a collector for dog droppings includes a stick...</td>\n",
       "      <td>simplest embodiment shown fig num interchangea...</td>\n",
       "      <td>collector for dog droppings includes stick pro...</td>\n",
       "    </tr>\n",
       "  </tbody>\n",
       "</table>\n",
       "</div>"
      ],
      "text/plain": [
       "  Publication_number                                        Description  \\\n",
       "0      US-7726913-B1  the invention comprises a pair of tubes with a...   \n",
       "1   US-2005217934-A1  the scaffolding system according to a particul...   \n",
       "2   US-2006037749-A1  now referring to fig1 , there is shown a subte...   \n",
       "3   US-2014259344-A1  embodiments of the disclosure relate to a urin...   \n",
       "4       US-4776621-A  the simplest embodiment shown in fig1 has only...   \n",
       "\n",
       "                                             Summary  \\\n",
       "0  the present invention is an apparatus and a me...   \n",
       "1  a scaffolding system and method of moving a sc...   \n",
       "2  a well tool and method for heating and deposit...   \n",
       "3  the disclosure provides a urinal screen compri...   \n",
       "4  a collector for dog droppings includes a stick...   \n",
       "\n",
       "                                        cleaned_text  \\\n",
       "0  invention comprises pair tubes first tube top ...   \n",
       "1  scaffolding system according particular embodi...   \n",
       "2  referring fig num shown subterranean well well...   \n",
       "3  embodiments disclosure relate urinal screen sy...   \n",
       "4  simplest embodiment shown fig num interchangea...   \n",
       "\n",
       "                                     cleaned_summary  \n",
       "0  the present invention is an apparatus and meth...  \n",
       "1  scaffolding system and method of moving scaffo...  \n",
       "2  well tool and method for heating and depositin...  \n",
       "3  the disclosure provides urinal screen comprisi...  \n",
       "4  collector for dog droppings includes stick pro...  "
      ]
     },
     "execution_count": 11,
     "metadata": {},
     "output_type": "execute_result"
    }
   ],
   "source": [
    "data.head()"
   ]
  },
  {
   "cell_type": "code",
   "execution_count": 12,
   "id": "impaired-november",
   "metadata": {},
   "outputs": [
    {
     "name": "stdout",
     "output_type": "stream",
     "text": [
      "len of text before cleaning :  3232\n",
      "len of summary before cleaning :  53\n",
      "len of text after cleaning :  1793\n",
      "len of summary after cleaning :  47\n"
     ]
    }
   ],
   "source": [
    "print('len of text before cleaning : ',len(data['Description'][0].split()))\n",
    "print('len of summary before cleaning : ',len(data['Summary'][0].split()))\n",
    "print('len of text after cleaning : ',len(data['cleaned_text'][0].split()))\n",
    "print('len of summary after cleaning : ',len(data['cleaned_summary'][0].split()))"
   ]
  },
  {
   "cell_type": "code",
   "execution_count": 13,
   "id": "looking-chosen",
   "metadata": {},
   "outputs": [
    {
     "name": "stdout",
     "output_type": "stream",
     "text": [
      "the present invention is an apparatus and a method for casting a cementitious or stone pile into the ground . the present invention comprises an exterior driving casing and an interior mandrel acting in cooperation to hold and deliver the pile forming material . a retrievable driving driving shoe is also disclose .\n"
     ]
    }
   ],
   "source": [
    "print(data['Summary'][0])"
   ]
  },
  {
   "cell_type": "code",
   "execution_count": 14,
   "id": "floppy-louisville",
   "metadata": {},
   "outputs": [
    {
     "name": "stdout",
     "output_type": "stream",
     "text": [
      "the present invention is an apparatus and method for casting cementitious or stone pile into the ground the present invention comprises an exterior driving casing and an interior mandrel acting in cooperation to hold and deliver the pile forming material retrievable driving driving shoe is also disclose \n"
     ]
    }
   ],
   "source": [
    "print(data['cleaned_summary'][0])"
   ]
  },
  {
   "cell_type": "code",
   "execution_count": 15,
   "id": "sharing-match",
   "metadata": {},
   "outputs": [
    {
     "name": "stdout",
     "output_type": "stream",
     "text": [
      "the invention comprises a pair of tubes with a first tube having a top and bottom . the bottom of the first tube comprises an open bottom and has an interior profile , the preferred profile is frusto - conical . the second tube having a top and bottom . the bottom of the second tube having a preferred exterior profile that is adapted to mate with the interior profile of the first tube , thereby sealing the open bottom of the first tube when the profiles come into contact with each other . open slots are provided for in the profile of the second tube to allow transfer of material from the interior of the second tube out through the open bottom of the first tube when the profiles disengage . a more specific detail of the preferred embodiment is further discussed below . the preferred embodiment 100 comprises an exterior casing 6 and an interior mandrel 5 . see , e . g , fig1 . the casing 6 and mandrel 5 may be of any cross section so long as mandrel 5 is able to fit slidably within casing 6 . each of the tubes have an upper end and a lower end . at the upper end of mandrel 5 is a first pile driver receiving plate 1 , which receives direct blows from a pile driver . pile driver plate 1 in turn rest on a second plate 2 having an annular opening , whereby mandrel 5 may be inserted there through . plate 2 is attached to the top end of casing 6 . when the pile driver ( not shown ) strikes plate 1 , the energy of the strike a is transmitted to plate 2 , which in turns drives casing 6 into the ground . accordingly , casing 6 bears the majority of the stresses in driving apparatus 100 into the ground . compound collar assembly 3 provides the means in which device 100 is to be lifted or extracted from the ground . referring to the fig2 and 3 , collar assembly 3 comprises an external lifting collar 14 , which encloses internal collar 4 . external casing 6 fits slidably within and through collar 4 . although the drawings shows collar 4 as a bolted on structure , collar 4 may also be a structure of a uniform ring . collar 14 has an annular space 27 ( see fig2 & amp ; 3 ) in which interior collar 4 fits within . lifting collar 14 is lifted by known lifting means such as cables 13 , which may be attached to a crane ( not shown ). as collar 14 is lifted by cables 13 , collar 14 engages interior collar 4 at 56 , which lifts mandrel 5 . internal collar 4 is affixed proximate to an upper portion of mandrel by pin 22 . however , collar 4 may be affixed to mandrel 5 by any number of methods , such as screws or bolts and the like , welding , or mandrel 5 and collar 4 can be casted or machined as a single item . in the preferred embodiment , pin 22 extends through a steel restraining member 40 . member 40 is restrained and securely affixed within the upper portion of mandrel 5 . member 40 may be made of any substantial and study material , e . g ., a solid steel plug , steel plating , or steel hollow metal cylinder . the ends of pin 22 extends out from opposing sides of the exterior of mandrel 5 and are fixed in a position located proximate to the upper portion of mandrel 5 . the ends of pin 22 interlocked with collar 4 , accordingly , so as pin 22 rides along and is restrained within slot 21 of casing 6 so does collar 4 . slot 21 is a located proximate the upper portion of casing 6 . therefore , as collar 4 moves up and down slot 21 so does mandrel 5 in relation to casing 6 . this can be seen when comparing fig2 and 3 . therefore , the interaction between pin 22 , collars 4 and 14 , and the bottom ledge of plate 2 , cause mandrel 5 to be displaced in relation to casing 6 when upward force b is applied . during the driving process , pile driving hammers offer cause pile mandrels to spiral which in turn would cause lifting cables to wind and tangle . this is avoided in collar assembly 3 . in fig2 , cables 13 exert no lifting force and therefore , interior collar 4 floats within annular space 27 , thus casing 6 may twist and turn with relative freedom within annular void 27 , without affecting cables 13 . suppressor 20 is located directly above member 40 . suppressor 20 is made from material possessing an ability to dampen vibrations , such materials can either be a natural material such as rubber or a synthetic elastomer . suppressor 20 as the drawings show is sandwiched between plate 1 and member 40 . the utility of suppressor 20 is discussed below . at the bottom of apparatus 100 are sealing means to control the release of grout or other pile forming materials . in the preferred embodiment , the sealing means comprise a pair of mating frusto conical profiles which is discussed as follows . at the bottom end of casing 6 is ground contacting member 28 , which comprises an open top end 32 and an open bottom end 31 . see fig2 and 3 . open top 32 end is located at the bottom end of casing 6 , and has an annular cross - sectional area with a downward facing frusto - conical profile . open top end 32 has a larger cross - sectional area than open bottom end 31 . ground contacting member 28 may be attached to the bottom of casing 6 either by a variety of means , such as screws , bolts , or by welding . attached to the bottom end of mandrel 5 is member 11 which has a substantially downward facing frusto - conical profile that is adapted to mate with ground contacting member &# 39 ; s ( 28 ) annular downward facing frusto - conical profile when the profiles come into contact with each other . member 11 also comprises a plug 8 which seals open bottom end 31 , an upward facing conical member 29 , and a plurality of elongated openings or slots 10 located radially along the upper portion of member 8 . the upper portion of member 11 is hollow , thereby allowing pile forming materials to exit openings 10 and migrate from the interior of mandrel 5 into the surrounding earth when the profiles are disengaged for each other . conical member 29 facilitates the dispersal of the pile forming materials out through openings 10 . located proximate to the bottom portion of casing 6 are a plurality of apertures 23 . during the driving of apparatus 100 into the ground , apertures 23 are in flow - through alignment with apertures 9 , which are located proximate the lower portion of mandrel 5 . this flow - through alignment of apertures 9 and 23 , depending on the type of pile being formed , enable cementitious fluid , water , or compressed air to exit from the interior of mandrel 5 and into the surrounding earth . in the case of installing a stone column air may be forced through these openings . this is discussed in further detail below . when it is time to form the pile , cables 13 exert an upward force b . mandrel 5 is lifted prior to casing 6 being engaged and lifted . see fig3 . this out of phase lifting of casing 6 and mandrel 5 results in lower plug 8 being lifted and unsealing the open bottom end 31 , which in turn allows the contents within mandrel 5 to be released through elongated slots 10 , out open bottom end 31 and into the hole created by apparatus 100 . as force b continues to lift mandrel 5 , collar 4 will ultimately engage the bottom of plate 2 at 55 , and thereby lift both casing 6 and mandrel 5 . during the entire lifting period , the hole is being filled with the contents of mandrel 5 . although not shown in the drawings , apparatus 100 may incorporate the use of one or more “ o ” rings 9 a to ensure an effective seal against unwanted grout , air , or water seepage when apertures 9 and 23 are out of phase . the “ o ” rings 9 a would be mounted on lower portion of mandrel 5 to a position above aperture 9 sealing the annular space between the exterior of mandrel 5 and the interior of casing 6 . the “ o ” rings 9 a may be made of any suitable elastomeric material that would be commonly used for the purpose of creating a seal , much like the piston rings of an automotive gasoline engine . apparatus 100 may also be equipped with an optional foot assembly 7 . such an assembly would be used when installing a pile formed from grout . as shown in the figures , foot assembly 7 is attached at the bottom of the exterior of casing 6 and encloses member 28 . foot assembly 7 includes a plate 50 , which is made of a sturdy material such as steel for contacting and penetrating the ground , cylindrical sidewall 72 which extends up over the lower portion of the member 28 , a plurality of removable bolts or screws 26 that are positioned radially proximate the lower portion of foot 7 , and sealing ring 75 with a sealing ring pin 24 which ride along in slot 80 . one end of bolts 26 rides along and is retrained within a channel 25 . channel 25 is located on the circumferential surface of member 28 . the boot is restrained to member 28 when bolts 26 are screwed in and ride up and down channel 25 . if foot assembly 7 is not desired , bolts 26 are removed and foot assembly 7 may slide off member 28 . sealing ring 75 comprises an annular ring of a sturdy material such as steel that circumferentially surrounds the a lower portion of the exterior casing 6 . sealing ring 75 is adapted so that it slideably fits around exterior casing 6 . during the driving process , sealing ring 75 is situated lower than the top edge of cylindrical sidewall 72 and below aligned apertures 9 and 23 . as shown in fig2 , so as not to hinder the flow of grout , air or water as the case may be , to enter the surrounding earth . when foot assembly is not used , ring 75 may be removed by removing pin 24 and sliding ring 75 off casing 6 ; ground contacting member 28 would also have to be removed . sealing ring 75 is activated via pin 24 . pin 24 is rigidly located proximate to the lower end of mandrel 5 , so as mandrel 5 traverse up and down within casing 6 , so does pin 24 . the distal ends of pin 24 extend through casing 6 and are interlocked into ring 75 , therefore , as pin 24 travels so does ring 75 . the travel of pin 24 , however , is confined within the boundaries of lower slot 80 . lower slot 80 is located on the lower portion of casing 6 . as indicated in the figures , slot 80 is aligned parallel to the length of both casing 6 and mandrel 5 . accordingly , when force b causes exterior collar 14 to engages interior collar 4 at point 56 , thereby causing mandrel 5 to be upwardly displaced in relation to casing 6 , pin 24 being interlocked to ring 75 causes ring 75 to also be displaced from its first position as seen in fig4 to a second position , as seen in fig5 , whereby , ring 75 seals the annular space 85 between the exterior of casing 6 and the interior of sidewall 72 . this sealing of annular space 85 aids in the extraction of device 100 from the earth by preventing debris from the surrounding earth from entering annular space 85 and clogging the extraction process or hanging up the device . another novel aspect of foot assembly 7 is that it provides a plume forming chamber 30 to facilitate the effective dispersal of grout into the surrounding earth . as shown in fig3 , 4 , and 5 during the extraction process mandrel 5 is displaced first in relation to casing 6 , when the upper portion of collar 14 engages the bottom of plate 2 at 55 , casing 6 begins to lift and is displaced in relation to the surrounding earth , accordingly , ground contacting member 28 lifts as casing 6 lifts , thereby causing the formation of chamber 30 . grout enters chamber 30 forming a steady state reservoir of grout , i . e ., the level within the reservoir will remain steady provided there is sufficient grout be delivered via mandrel 5 as the grout exits out opening 33 of chamber 30 . opening 33 as the figures show is larger in cross - sectional area than that of opening 31 . as apparatus 100 continues to lift from the ground , ground contacting member 28 engages foot assembly 7 when lifting bolt 26 contacts the bottom of channel 25 . at that point grout flows out of the grout reservoir formed in chamber 30 and into the surrounding earth . the affects of the chamber and the resultant reservoir causes the grout to flow more uniformly and widely into the earth . another novel aspect of foot assembly 7 , is that the foot is not left in the ground , but retrieved for subsequent and multiple use . this is advantageous as steel is not wasted and thus results in cost savings . the use of optional foot assembly 7 may be used where the desired hole dimensions is larger than can be created with casing 6 . accordingly , optional foot assembly 7 facilitates the flow , distribution , and placement of the pile forming material and can be adapted to the particular characteristics of pile forming material that is to be placed into the earth . in use , apparatus 100 is driven into the earth using known pile driving techniques and equipment . during the driving process , apertures 9 and 23 are in alignment , thereby allowing grout to flow from the interior of mandrel 5 through the apertures and into the surrounding earth . this provides fluid grout to lubricate the result pile hole to facilitate extraction of the apparatus 100 fills any voids with grout . pile driving force a maintains the plates 1 and 2 flush against each other and maintains the seal caused by the mating between the annular conical profile of ground contacting member 28 with the conical profile of mandrel end member 11 . when the desired depth is obtained , collar assembly 3 is use to lift the apparatus and extract apparatus 100 . see fig3 . during the extraction process , casing 6 and mandrel 5 are lifted out of phase , in that , mandrel 5 is first lifted and advances a certain distance prior to casing 6 being also lifted . when casing 6 begins lifting , both tubes are then lifted in unison . as mandrel 5 is displaced in an upwards direction from casing 6 , member 11 unseats from ground contacting member 28 , thereby creating an annular space . see fig3 . this causes grout to flow out of elongated slots 10 , out the bottom opening 31 , and into the surrounding earth . apparatus 100 may also be use to place stone column into the ground . when installing a stone pile optional foot 7 assembly would be used . instead of a grout delivery system as illustrated by 15 , apparatus 100 is equipped with a hopper ( not shown ), which supplies stone or crushed rock . mandrel 5 is not prefilled with stone , rocks and the like . compressed air or water is supplied to the annular space between casing 6 and mandrel 5 . in the placement of stone piles / columns , air or water is used to stabilize the surrounding earth as the device is being driven into the ground . the compressed air or water that is forced into the annual space between exterior casing 6 and mandrel 5 exits casing 6 through apertures 23 and into the surrounding earth . when the desired depth is reached , the hopper fills mandrel 5 with stone / rock , and the lifting procedure as described above begins . in addition , the lifting and depositing of stone may be halted and driving may restart so as to further compact the forming stone column . the water or compressed air that exits through aperture 23 assists in the extraction of the apparatus from the ground . when using apparatus 100 for installing stone or rock pile , optional foot 7 is not required . in addition apparatus 100 easily accommodates the application of vibration equipment . as as shown in the drawings , a suppressor 20 , which is made of an elastomeric material may be inserted within mandrel 5 . it is a common practice when placing stone columns to attached a vibrator to the mandrel . see , for example , the discussions in goughnour , u . s . pat . no . 5 , 279 , 502 . 1 in apparatus 100 , it is anticipated that a driving hammer will be used to drive the apparatus into the earth . accordingly , after driving , the hammer will rest on plate 1 . if a vibrator is used , suppressor 20 will substantially reduce the vibrations being transmitted to the hammer . excessive vibrations to the hammer may cause damage to the pile driving equipment . accordingly , no additional time or procedures will be required to remove the hammer from driving plate 1 . the hammer can ride on top of driving plate 1 during the entire lifting and vibrating process . 1 u . s . pat . no . 4 , 397 , 588 , col . 1 . ( regarding vibroflot ) a preferred embodiment of the invention has been described and illustrated for purposes of clarity and example , it must be understood that many changes , substitutions and modifications will become apparent to those possessed of ordinary skill in the art without thereby departing from the scope and spirit of the present invention which is defined by the following claims .\n"
     ]
    }
   ],
   "source": [
    "print(data['Description'][0])"
   ]
  },
  {
   "cell_type": "code",
   "execution_count": 16,
   "id": "primary-philosophy",
   "metadata": {},
   "outputs": [
    {
     "name": "stdout",
     "output_type": "stream",
     "text": [
      "invention comprises pair tubes first tube top bottom bottom first tube comprises open bottom interior profile preferred profile frusto conical second tube top bottom bottom second tube preferred exterior profile adapted mate interior profile first tube thereby sealing open bottom first tube profiles come contact open slots provided profile second tube allow transfer material interior second tube open bottom first tube profiles disengage specific detail preferred embodiment discussed preferred embodiment num comprises exterior casing num interior mandrel num see fig num casing num mandrel num may cross section long mandrel num able fit slidably within casing num tubes upper end lower end upper end mandrel num first pile driver receiving plate num receives direct blows pile driver pile driver plate num turn rest second plate num annular opening whereby mandrel num may inserted plate num attached top end casing num pile driver shown strikes plate num energy strike transmitted plate num turns drives casing num ground accordingly casing num bears majority stresses driving apparatus num ground compound collar assembly num provides means device num lifted extracted ground referring fig num num collar assembly num comprises external lifting collar num encloses internal collar num external casing num fits slidably within collar num although drawings shows collar num bolted structure collar num may also structure uniform ring collar num annular space num see fig num amp num interior collar num fits within lifting collar num lifted known lifting means cables num may attached crane shown collar num lifted cables num collar num engages interior collar num num lifts mandrel num internal collar num affixed proximate upper portion mandrel pin num however collar num may affixed mandrel num number methods screws bolts like welding mandrel num collar num casted machined single item preferred embodiment pin num extends steel restraining member num member num restrained securely affixed within upper portion mandrel num member num may made substantial study material solid steel plug steel plating steel hollow metal cylinder ends pin num extends opposing sides exterior mandrel num fixed position located proximate upper portion mandrel num ends pin num interlocked collar num accordingly pin num rides along restrained within slot num casing num collar num slot num located proximate upper portion casing num therefore collar num moves slot num mandrel num relation casing num seen comparing fig num num therefore interaction pin num collars num num bottom ledge plate num cause mandrel num displaced relation casing num upward force applied driving process pile driving hammers offer cause pile mandrels spiral turn would cause lifting cables wind tangle avoided collar assembly num fig num cables num exert lifting force therefore interior collar num floats within annular space num thus casing num may twist turn relative freedom within annular void num without affecting cables num suppressor num located directly member num suppressor num made material possessing ability dampen vibrations materials either natural material rubber synthetic elastomer suppressor num drawings show sandwiched plate num member num utility suppressor num discussed bottom apparatus num sealing means control release grout pile forming materials preferred embodiment sealing means comprise pair mating frusto conical profiles discussed follows bottom end casing num ground contacting member num comprises open top end num open bottom end num see fig num num open top num end located bottom end casing num annular cross sectional area downward facing frusto conical profile open top end num larger cross sectional area open bottom end num ground contacting member num may attached bottom casing num either variety means screws bolts welding attached bottom end mandrel num member num substantially downward facing frusto conical profile adapted mate ground contacting member num num annular downward facing frusto conical profile profiles come contact member num also comprises plug num seals open bottom end num upward facing conical member num plurality elongated openings slots num located radially along upper portion member num upper portion member num hollow thereby allowing pile forming materials exit openings num migrate interior mandrel num surrounding earth profiles disengaged conical member num facilitates dispersal pile forming materials openings num located proximate bottom portion casing num plurality apertures num driving apparatus num ground apertures num flow alignment apertures num located proximate lower portion mandrel num flow alignment apertures num num depending type pile formed enable cementitious fluid water compressed air exit interior mandrel num surrounding earth case installing stone column air may forced openings discussed detail time form pile cables num exert upward force mandrel num lifted prior casing num engaged lifted see fig num phase lifting casing num mandrel num results lower plug num lifted unsealing open bottom end num turn allows contents within mandrel num released elongated slots num open bottom end num hole created apparatus num force continues lift mandrel num collar num ultimately engage bottom plate num num thereby lift casing num mandrel num entire lifting period hole filled contents mandrel num although shown drawings apparatus num may incorporate use one rings num ensure effective seal unwanted grout air water seepage apertures num num phase rings num would mounted lower portion mandrel num position aperture num sealing annular space exterior mandrel num interior casing num rings num may made suitable elastomeric material would commonly used purpose creating seal much like piston rings automotive gasoline engine apparatus num may also equipped optional foot assembly num assembly would used installing pile formed grout shown figures foot assembly num attached bottom exterior casing num encloses member num foot assembly num includes plate num made sturdy material steel contacting penetrating ground cylindrical sidewall num extends lower portion member num plurality removable bolts screws num positioned radially proximate lower portion foot num sealing ring num sealing ring pin num ride along slot num one end bolts num rides along retrained within channel num channel num located circumferential surface member num boot restrained member num bolts num screwed ride channel num foot assembly num desired bolts num removed foot assembly num may slide member num sealing ring num comprises annular ring sturdy material steel circumferentially surrounds lower portion exterior casing num sealing ring num adapted slideably fits around exterior casing num driving process sealing ring num situated lower top edge cylindrical sidewall num aligned apertures num num shown fig num hinder flow grout air water case may enter surrounding earth foot assembly used ring num may removed removing pin num sliding ring num casing num ground contacting member num would also removed sealing ring num activated via pin num pin num rigidly located proximate lower end mandrel num mandrel num traverse within casing num pin num distal ends pin num extend casing num interlocked ring num therefore pin num travels ring num travel pin num however confined within boundaries lower slot num lower slot num located lower portion casing num indicated figures slot num aligned parallel length casing num mandrel num accordingly force causes exterior collar num engages interior collar num point num thereby causing mandrel num upwardly displaced relation casing num pin num interlocked ring num causes ring num also displaced first position seen fig num second position seen fig num whereby ring num seals annular space num exterior casing num interior sidewall num sealing annular space num aids extraction device num earth preventing debris surrounding earth entering annular space num clogging extraction process hanging device another novel aspect foot assembly num provides plume forming chamber num facilitate effective dispersal grout surrounding earth shown fig num num num extraction process mandrel num displaced first relation casing num upper portion collar num engages bottom plate num num casing num begins lift displaced relation surrounding earth accordingly ground contacting member num lifts casing num lifts thereby causing formation chamber num grout enters chamber num forming steady state reservoir grout level within reservoir remain steady provided sufficient grout delivered via mandrel num grout exits opening num chamber num opening num figures show larger cross sectional area opening num apparatus num continues lift ground ground contacting member num engages foot assembly num lifting bolt num contacts bottom channel num point grout flows grout reservoir formed chamber num surrounding earth affects chamber resultant reservoir causes grout flow uniformly widely earth another novel aspect foot assembly num foot left ground retrieved subsequent multiple use advantageous steel wasted thus results cost savings use optional foot assembly num may used desired hole dimensions larger created casing num accordingly optional foot assembly num facilitates flow distribution placement pile forming material adapted particular characteristics pile forming material placed earth use apparatus num driven earth using known pile driving techniques equipment driving process apertures num num alignment thereby allowing grout flow interior mandrel num apertures surrounding earth provides fluid grout lubricate result pile hole facilitate extraction apparatus num fills voids grout pile driving force maintains plates num num flush maintains seal caused mating annular conical profile ground contacting member num conical profile mandrel end member num desired depth obtained collar assembly num use lift apparatus extract apparatus num see fig num extraction process casing num mandrel num lifted phase mandrel num first lifted advances certain distance prior casing num also lifted casing num begins lifting tubes lifted unison mandrel num displaced upwards direction casing num member num unseats ground contacting member num thereby creating annular space see fig num causes grout flow elongated slots num bottom opening num surrounding earth apparatus num may also use place stone column ground installing stone pile optional foot num assembly would used instead grout delivery system illustrated num apparatus num equipped hopper shown supplies stone crushed rock mandrel num prefilled stone rocks like compressed air water supplied annular space casing num mandrel num placement stone piles columns air water used stabilize surrounding earth device driven ground compressed air water forced annual space exterior casing num mandrel num exits casing num apertures num surrounding earth desired depth reached hopper fills mandrel num stone rock lifting procedure described begins addition lifting depositing stone may halted driving may restart compact forming stone column water compressed air exits aperture num assists extraction apparatus ground using apparatus num installing stone rock pile optional foot num required addition apparatus num easily accommodates application vibration equipment shown drawings suppressor num made elastomeric material may inserted within mandrel num common practice placing stone columns attached vibrator mandrel see example discussions goughnour pat num num num num apparatus num anticipated driving hammer used drive apparatus earth accordingly driving hammer rest plate num vibrator used suppressor num substantially reduce vibrations transmitted hammer excessive vibrations hammer may cause damage pile driving equipment accordingly additional time procedures required remove hammer driving plate num hammer ride top driving plate num entire lifting vibrating process num pat num num num col num regarding vibroflot preferred embodiment invention described illustrated purposes clarity example must understood many changes substitutions modifications become apparent possessed ordinary skill art without thereby departing scope spirit present invention defined following claims\n"
     ]
    }
   ],
   "source": [
    "print(data['cleaned_text'][0])"
   ]
  },
  {
   "cell_type": "markdown",
   "id": "reflected-subject",
   "metadata": {},
   "source": [
    "### Statistics of data before cleaning "
   ]
  },
  {
   "cell_type": "code",
   "execution_count": 35,
   "id": "cosmetic-representation",
   "metadata": {},
   "outputs": [
    {
     "name": "stdout",
     "output_type": "stream",
     "text": [
      "average number of word in description:  2708.1810073452257\n",
      "Maximum number of words in description 24116\n",
      "Minimum number of words in description 390\n",
      "average number of word in summary:  116.00472193074502\n",
      "Maximum number of words in Summary 362\n",
      "Minimum number of words in Summary 21\n"
     ]
    }
   ],
   "source": [
    "text_word_count = []\n",
    "summary_word_count = []\n",
    "for i in data['Description']:\n",
    "      text_word_count.append(len(i.split()))\n",
    "#text_word_count  \n",
    "total_word_des = sum(text_word_count)\n",
    "avg_word_description = total_word_des/len(text_word_count)\n",
    "print('average number of word in description: ',avg_word_description)\n",
    "print('Maximum number of words in description',max(text_word_count))\n",
    "print('Minimum number of words in description',min(text_word_count))\n",
    "for i in data['Summary']:\n",
    "      summary_word_count.append(len(i.split()))\n",
    "        \n",
    "total_word_sum = sum(summary_word_count)\n",
    "avg_word_sum = total_word_sum/len(summary_word_count)\n",
    "print('average number of word in summary: ',avg_word_sum)\n",
    "print('Maximum number of words in Summary',max(summary_word_count))\n",
    "print('Minimum number of words in Summary',min(summary_word_count))        "
   ]
  },
  {
   "cell_type": "code",
   "execution_count": null,
   "id": "amino-terrorism",
   "metadata": {},
   "outputs": [],
   "source": []
  },
  {
   "cell_type": "code",
   "execution_count": 20,
   "id": "charged-vacuum",
   "metadata": {},
   "outputs": [
    {
     "data": {
      "image/png": "[encoded data removed]",
      "text/plain": [
       "<Figure size 432x288 with 2 Axes>"
      ]
     },
     "metadata": {
      "needs_background": "light"
     },
     "output_type": "display_data"
    }
   ],
   "source": [
    "import matplotlib.pyplot as plt\n",
    "text_word_count = []\n",
    "summary_word_count = []\n",
    "\n",
    "# populate the lists with sentence lengths\n",
    "for i in data['Description']:\n",
    "      text_word_count.append(len(i.split()))\n",
    "\n",
    "for i in data['Summary']:\n",
    "      summary_word_count.append(len(i.split()))\n",
    "\n",
    "length_df = pd.DataFrame({'text':text_word_count, 'summary':summary_word_count})\n",
    "length_df.hist()#bins = 30'\n",
    "plt.show()"
   ]
  },
  {
   "cell_type": "markdown",
   "id": "capable-characteristic",
   "metadata": {},
   "source": [
    "### Statistics of data after cleaning "
   ]
  },
  {
   "cell_type": "code",
   "execution_count": 36,
   "id": "adapted-senate",
   "metadata": {},
   "outputs": [
    {
     "name": "stdout",
     "output_type": "stream",
     "text": [
      "average number of word in clean description:  1461.3824763903463\n",
      "Maximum number of words in description 12687\n",
      "Minimum number of words in description 215\n",
      "average number of word in clean summary:  101.6479538300105\n",
      "Maximum number of words in Summary 322\n",
      "Minimum number of words in Summary 18\n"
     ]
    }
   ],
   "source": [
    "text_word_count = []\n",
    "summary_word_count = []\n",
    "for i in data['cleaned_text']:\n",
    "      text_word_count.append(len(i.split()))\n",
    "#text_word_count  \n",
    "total_word_des = sum(text_word_count)\n",
    "avg_word_description = total_word_des/len(text_word_count)\n",
    "print('average number of word in clean description: ',avg_word_description)\n",
    "print('Maximum number of words in description',max(text_word_count))\n",
    "print('Minimum number of words in description',min(text_word_count))\n",
    "for i in data['cleaned_summary']:\n",
    "      summary_word_count.append(len(i.split()))\n",
    "        \n",
    "total_word_sum = sum(summary_word_count)\n",
    "avg_word_sum = total_word_sum/len(summary_word_count)\n",
    "print('average number of word in clean summary: ',avg_word_sum)\n",
    "print('Maximum number of words in Summary',max(summary_word_count))\n",
    "print('Minimum number of words in Summary',min(summary_word_count))"
   ]
  },
  {
   "cell_type": "code",
   "execution_count": 21,
   "id": "electoral-atmosphere",
   "metadata": {},
   "outputs": [
    {
     "data": {
      "image/png": "[encoded data removed]",
      "text/plain": [
       "<Figure size 432x288 with 2 Axes>"
      ]
     },
     "metadata": {
      "needs_background": "light"
     },
     "output_type": "display_data"
    }
   ],
   "source": [
    "import matplotlib.pyplot as plt\n",
    "text_word_count = []\n",
    "summary_word_count = []\n",
    "\n",
    "# populate the lists with sentence lengths\n",
    "for i in data['cleaned_text']:\n",
    "      text_word_count.append(len(i.split()))\n",
    "\n",
    "for i in data['cleaned_summary']:\n",
    "      summary_word_count.append(len(i.split()))\n",
    "\n",
    "length_df = pd.DataFrame({'text':text_word_count, 'summary':summary_word_count})\n",
    "length_df.hist()#bins = 30\n",
    "plt.show()\n",
    "\n"
   ]
  },
  {
   "cell_type": "markdown",
   "id": "mechanical-gospel",
   "metadata": {},
   "source": [
    "What has been done during data preprocessing:\n",
    "1. Remove duplicate columns\n",
    "2. contractions implementation\n",
    "3. Currancy Regex\n",
    "4. Email Regex\n",
    "5. Remove Punctuation\n",
    "6. Remove Stopwords\n",
    "7. Remove URL\n",
    "8. Apply Lemmatization"
   ]
  },
  {
   "cell_type": "code",
   "execution_count": null,
   "id": "musical-progressive",
   "metadata": {},
   "outputs": [],
   "source": []
  }
 ],
 "metadata": {
  "kernelspec": {
   "display_name": "Python 3",
   "language": "python",
   "name": "python3"
  },
  "language_info": {
   "codemirror_mode": {
    "name": "ipython",
    "version": 3
   },
   "file_extension": ".py",
   "mimetype": "text/x-python",
   "name": "python",
   "nbconvert_exporter": "python",
   "pygments_lexer": "ipython3",
   "version": "3.8.8"
  }
 },
 "nbformat": 4,
 "nbformat_minor": 5
}
